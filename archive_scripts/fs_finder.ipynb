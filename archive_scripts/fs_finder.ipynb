{
 "cells": [
  {
   "cell_type": "code",
   "execution_count": 20,
   "id": "8d7f1911",
   "metadata": {},
   "outputs": [],
   "source": [
    "from difflib import SequenceMatcher\n",
    "import pandas as pd\n",
    "import re\n",
    "import os \n",
    "import warnings\n",
    "warnings.simplefilter(action='ignore', category=FutureWarning)"
   ]
  },
  {
   "cell_type": "code",
   "execution_count": 21,
   "id": "667a2115",
   "metadata": {},
   "outputs": [
    {
     "data": {
      "text/plain": [
       "['Title', 'Url', 'Standfirst', 'Date']"
      ]
     },
     "execution_count": 21,
     "metadata": {},
     "output_type": "execute_result"
    }
   ],
   "source": [
    "combo = pd.read_csv('fs/combined.csv')\n",
    "['Title', 'Url', 'Standfirst', 'Date']\n",
    "# print(combo.columns.tolist())"
   ]
  },
  {
   "cell_type": "code",
   "execution_count": 22,
   "id": "ee5df720",
   "metadata": {},
   "outputs": [],
   "source": [
    "def search_similar(df,\n",
    "                   queries: list[str],\n",
    "                   columns: list[str],\n",
    "                   threshold: float = 0.6,\n",
    "                   token_overlap_min: float = 0.5):\n",
    "    queries = [q.strip().casefold() for q in queries if q and str(q).strip()]\n",
    "    if not queries:\n",
    "        return df.iloc[0:0]\n",
    "\n",
    "    word_re = re.compile(r\"\\w+\")\n",
    "\n",
    "    def token_overlap(a: str, b: str) -> float:\n",
    "        sa, sb = set(word_re.findall(a)), set(word_re.findall(b))\n",
    "        if not sa or not sb:\n",
    "            return 0.0\n",
    "        denom = min(len(sa), len(sb))\n",
    "        return len(sa & sb) / denom\n",
    "\n",
    "    def is_similar(text) -> bool:\n",
    "        if pd.isna(text):\n",
    "            return False\n",
    "        t = str(text).casefold().strip()\n",
    "        if not t:\n",
    "            return False\n",
    "\n",
    "        for q in queries:\n",
    "            if q in t or t in q:\n",
    "                return True\n",
    "            if token_overlap(t, q) >= token_overlap_min:\n",
    "                return True\n",
    "            if SequenceMatcher(None, t, q).ratio() >= threshold:\n",
    "                return True\n",
    "        return False\n",
    "\n",
    "    mask = df[columns].applymap(is_similar).any(axis=1)\n",
    "    # return df[mask]\n",
    "    returno = df[mask].copy()\n",
    "    returno['Date'] = pd.to_datetime(returno['Date']).dt.strftime(\"%-I%p %d %b\")\n",
    "    # returno = returno[['title', 'link']]\n",
    "\n",
    "    for index, row in returno.iterrows():\n",
    "        print(row['Title'])\n",
    "        print(row['Date'], row['Url'])\n",
    "        print(\"\\n\")"
   ]
  },
  {
   "cell_type": "code",
   "execution_count": 23,
   "id": "f7031f11",
   "metadata": {},
   "outputs": [
    {
     "name": "stdout",
     "output_type": "stream",
     "text": [
      "Who’s responsible for our plastic problem? – Full Story podcastClimate and environment reporter Petra Stock tells Nour Haydar about Australia’s rising plastic waste problem and what needs to be done to tackle one of the biggest environmental threats of our timePodcast19:35\n",
      "12AM 15 Sep https://www.theguardian.com/australia-news/audio/2025/sep/15/whos-responsible-for-our-plastic-problem-full-story-podcast\n",
      "\n",
      "\n",
      "Can you trust your sunscreen? - Full Story podcastConsumer affairs reporter Catie Mcleod tells Nour Haydar why questions are being asked about the level of protection provided by some leading brands and what consumers need to know nowPodcast17:24\n",
      "12AM 24 Jun https://www.theguardian.com/australia-news/audio/2025/jun/24/can-you-trust-your-sunscreen-full-story-podcast\n",
      "\n",
      "\n",
      "Why is Formula One having a moment? – Full Story podcastMatilda Boseley talks to sport reporter Jack Snape on why despite the many controversies including sponsorship and environmental impact, the F1 is riding high with a massive new audience of young people – especially womenPodcast20:32\n",
      "12AM 17 Mar https://www.theguardian.com/australia-news/audio/2025/mar/17/why-is-formula-one-having-a-moment-full-story-podcast\n",
      "\n",
      "\n",
      "Contamination risk: how asbestos can end up in our parks – Full Story podcastEnvironmental reporter Lisa Cox tells Gabrielle Jackson about the known health risks and mismanagement of recycled building waste in our soilPodcast20:56\n",
      "12AM 30 Jan https://www.theguardian.com/australia-news/audio/2024/jan/30/contamination-risk-how-asbestos-can-end-up-in-our-parks-full-story-podcast\n",
      "\n",
      "\n",
      "Saving our threatened environment: Full Story live​ – podcastLaura Murphy-Oates speaks to Adam Morton, Dr Denis Rose, David Pocock and Felicity Wade about the state of Australia’s environmental crisisPodcast42:10\n",
      "12AM 12 Jun https://www.theguardian.com/australia-news/audio/2023/jun/12/halting-our-extinction-crisis-live-at-vivid-sydney-full-story-podcast\n",
      "\n",
      "\n",
      "The environmental impact of The Rings of PowerNew Zealand correspondent Tess McClure speaks to Jane Lee about the environmental impact of major film productions, including The Rings of Power, and whether the country’s government can do something about itPodcast26:33\n",
      "12AM 21 Nov https://www.theguardian.com/australia-news/audio/2022/nov/21/the-environmental-impact-of-amazons-the-rings-of-power\n",
      "\n",
      "\n",
      "Americans lose faith in the US supreme courtThe US supreme court has struck down the constitutional right to an abortion, which will affect the lives of millions of Americans for decades to come. Jonathan Freedland and Jill Filipovic discuss whether it’s still possible for a deeply divided court of nine judges to keep the promise to the American people of ‘equal protection’, and what happens if it can’tPodcast24:43\n",
      "12AM 08 Jul https://www.theguardian.com/australia-news/audio/2022/jul/08/americans-lose-faith-in-the-us-supreme-court\n",
      "\n",
      "\n",
      "The Greens’ next power playAs climate change, natural disasters and other environmental concerns loom large over the next federal election, the Greens are hoping to move further from its status as a party of protest to become a third major political party. Podcast24:42\n",
      "12AM 16 Mar https://www.theguardian.com/australia-news/audio/2022/mar/16/the-greens-next-power-play\n",
      "\n",
      "\n",
      "Are environmental offsets doing more harm than good?Environment reporter Lisa Cox explains to Jane Lee how Australia’s environmental offsets policy, which was designed to protect Australian wildlife, ended up failing it.Podcast27:46\n",
      "12AM 08 Dec https://www.theguardian.com/australia-news/audio/2021/dec/08/are-environmental-offsets-doing-more-harm-than-good\n",
      "\n",
      "\n",
      "How Australia put 30,000 people in limboWhen he was a teenager Zaki fled a Taliban death warrant to find somewhere safe. Instead, he found himself impounded in the politics of fear that Australian leaders have been stoking for decades. He is one of 30,000 refugees and asylum seekers in the ‘legacy caseload’, kept silent by a system that holds permanent protection out of reach. Podcast30:27\n",
      "12AM 26 Nov https://www.theguardian.com/australia-news/audio/2020/nov/26/how-australia-put-30000-people-in-limbo\n",
      "\n",
      "\n",
      "The scandal of millions of Americans deprived of running waterGuardian US environmental justice reporter Nina Lakhani reports on her landmark investigation into America’s water crisis, revealing that millions of Americans are facing unaffordable bills for running water and risk being disconnected or losing their homesPodcast27:23\n",
      "12AM 13 Jul https://www.theguardian.com/australia-news/audio/2020/jul/13/the-scandal-of-millions-of-americans-deprived-of-running-water\n",
      "\n",
      "\n",
      "Scott Morrison's crackdown on environmental protestsKatharine Murphy and Ben Butler examine the prime minister’s threats to outlaw climate activists from influencing businessesPodcast21:22\n",
      "12AM 13 Nov https://www.theguardian.com/australia-news/audio/2019/nov/13/scott-morrisons-crackdown-on-environmental-protests\n",
      "\n",
      "\n"
     ]
    }
   ],
   "source": [
    "\n",
    "\n",
    "####\n",
    "terms = [\"Environmental protection\"]\n",
    "###\n",
    "\n",
    "search_similar(combo, terms, ['Title',  'Standfirst'], threshold=0.7)\n",
    "\n"
   ]
  }
 ],
 "metadata": {
  "kernelspec": {
   "display_name": "Python 3",
   "language": "python",
   "name": "python3"
  },
  "language_info": {
   "codemirror_mode": {
    "name": "ipython",
    "version": 3
   },
   "file_extension": ".py",
   "mimetype": "text/x-python",
   "name": "python",
   "nbconvert_exporter": "python",
   "pygments_lexer": "ipython3",
   "version": "3.13.1"
  }
 },
 "nbformat": 4,
 "nbformat_minor": 5
}
