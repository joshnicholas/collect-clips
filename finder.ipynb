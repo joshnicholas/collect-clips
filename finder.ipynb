{
 "cells": [
  {
   "cell_type": "code",
   "execution_count": 75,
   "id": "9bf8d580",
   "metadata": {},
   "outputs": [],
   "source": [
    "from difflib import SequenceMatcher\n",
    "import pandas as pd\n",
    "import re\n",
    "import os \n",
    "import warnings\n",
    "warnings.simplefilter(action='ignore', category=FutureWarning)"
   ]
  },
  {
   "cell_type": "code",
   "execution_count": 76,
   "id": "44b31cda",
   "metadata": {},
   "outputs": [
    {
     "data": {
      "text/plain": [
       "['published', 'title', 'description', 'link', 'Pub']"
      ]
     },
     "execution_count": 76,
     "metadata": {},
     "output_type": "execute_result"
    }
   ],
   "source": [
    "combo = pd.read_csv('data/combined.csv')\n",
    "['published', 'title', 'description', 'link', 'Pub']\n",
    "# print(combo.columns.tolist())"
   ]
  },
  {
   "cell_type": "code",
   "execution_count": 77,
   "id": "e6b8dbdb",
   "metadata": {},
   "outputs": [],
   "source": [
    "def search_similar(df,\n",
    "                   queries: list[str],\n",
    "                   columns: list[str],\n",
    "                   threshold: float = 0.6,\n",
    "                   token_overlap_min: float = 0.5):\n",
    "    queries = [q.strip().casefold() for q in queries if q and str(q).strip()]\n",
    "    if not queries:\n",
    "        return df.iloc[0:0]\n",
    "\n",
    "    word_re = re.compile(r\"\\w+\")\n",
    "\n",
    "    def token_overlap(a: str, b: str) -> float:\n",
    "        sa, sb = set(word_re.findall(a)), set(word_re.findall(b))\n",
    "        if not sa or not sb:\n",
    "            return 0.0\n",
    "        denom = min(len(sa), len(sb))\n",
    "        return len(sa & sb) / denom\n",
    "\n",
    "    def is_similar(text) -> bool:\n",
    "        if pd.isna(text):\n",
    "            return False\n",
    "        t = str(text).casefold().strip()\n",
    "        if not t:\n",
    "            return False\n",
    "\n",
    "        for q in queries:\n",
    "            if q in t or t in q:\n",
    "                return True\n",
    "            if token_overlap(t, q) >= token_overlap_min:\n",
    "                return True\n",
    "            if SequenceMatcher(None, t, q).ratio() >= threshold:\n",
    "                return True\n",
    "        return False\n",
    "\n",
    "    mask = df[columns].applymap(is_similar).any(axis=1)\n",
    "    # return df[mask]\n",
    "    returno = df[mask].copy()\n",
    "    returno['published'] = pd.to_datetime(returno['published']).dt.tz_convert('Australia/Sydney').dt.strftime(\"%-I%p %d %b\")\n",
    "    # returno = returno[['title', 'link']]\n",
    "\n",
    "    for index, row in returno.iterrows():\n",
    "        print(row['title'])\n",
    "        print(row['published'], row['link'])\n",
    "        print(\"\\n\")"
   ]
  },
  {
   "cell_type": "code",
   "execution_count": 78,
   "id": "9171efff",
   "metadata": {},
   "outputs": [
    {
     "name": "stdout",
     "output_type": "stream",
     "text": [
      "Barnaby Joyce boycotts Nationals over net zero | 7NEWS\n",
      "12PM 27 Oct https://www.youtube.com/watch?v=VWXL5S8vhk4\n",
      "\n",
      "\n",
      "Labor pushes for green light on its overhaul of Australia's environment laws | ABC NEWS\n",
      "7PM 26 Oct https://www.youtube.com/watch?v=yqlxnbuXb28\n",
      "\n",
      "\n"
     ]
    },
    {
     "name": "stderr",
     "output_type": "stream",
     "text": [
      "Traceback (most recent call last):\n",
      "  File \u001b[35m\"/Users/josh_nicholas/Personal/collect-clips/youtube.py\"\u001b[0m, line \u001b[35m4\u001b[0m, in \u001b[35m<module>\u001b[0m\n",
      "    import feedparser\n",
      "\u001b[1;35mModuleNotFoundError\u001b[0m: \u001b[35mNo module named 'feedparser'\u001b[0m\n"
     ]
    }
   ],
   "source": [
    "os.system('python3 youtube.py')\n",
    "\n",
    "####\n",
    "terms = [\"environment\", 'epbc', 'watt']\n",
    "###\n",
    "\n",
    "search_similar(combo, terms, [ 'title', 'description'], threshold=0.5)\n",
    "\n"
   ]
  }
 ],
 "metadata": {
  "kernelspec": {
   "display_name": "Python 3",
   "language": "python",
   "name": "python3"
  },
  "language_info": {
   "codemirror_mode": {
    "name": "ipython",
    "version": 3
   },
   "file_extension": ".py",
   "mimetype": "text/x-python",
   "name": "python",
   "nbconvert_exporter": "python",
   "pygments_lexer": "ipython3",
   "version": "3.13.1"
  }
 },
 "nbformat": 4,
 "nbformat_minor": 5
}
